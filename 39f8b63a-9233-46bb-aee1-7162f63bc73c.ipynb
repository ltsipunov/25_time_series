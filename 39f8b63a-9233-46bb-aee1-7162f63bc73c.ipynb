{
 "cells": [
  {
   "cell_type": "markdown",
   "metadata": {},
   "source": [
    "#  Прогнозирование заказов такси"
   ]
  },
  {
   "cell_type": "markdown",
   "metadata": {},
   "source": [
    "Компания «Чётенькое такси» собрала исторические данные о заказах такси в аэропортах. Чтобы привлекать больше водителей в период пиковой нагрузки, нужно спрогнозировать количество заказов такси на следующий час.   \n",
    "Требуется построить модель для такого предсказания.\n",
    "\n",
    "Для этого нужно:\n",
    "\n",
    "1. Загрузить данные и выполнить их ресемплирование по одному часу.\n",
    "2. Проанализировать данные.\n",
    "3. Обучить разные модели с различными гиперпараметрами. Сделать тестовую выборку размером 10% от исходных данных.\n",
    "4. Проверить данные на тестовой выборке и сделать выводы.\n",
    "\n",
    "Значение метрики *RMSE* на тестовой выборке должно быть не больше 48.\n",
    "\n"
   ]
  },
  {
   "cell_type": "code",
   "execution_count": 1,
   "metadata": {
    "scrolled": true
   },
   "outputs": [
    {
     "name": "stdout",
     "output_type": "stream",
     "text": [
      "Requirement already satisfied: lightgbm in c:\\users\\leonid\\anaconda3\\envs\\py39\\lib\\site-packages (3.3.5)\n",
      "Requirement already satisfied: wheel in c:\\users\\leonid\\anaconda3\\envs\\py39\\lib\\site-packages (from lightgbm) (0.40.0)\n",
      "Requirement already satisfied: numpy in c:\\users\\leonid\\anaconda3\\envs\\py39\\lib\\site-packages (from lightgbm) (1.24.4)\n",
      "Requirement already satisfied: scipy in c:\\users\\leonid\\anaconda3\\envs\\py39\\lib\\site-packages (from lightgbm) (1.11.1)\n",
      "Requirement already satisfied: scikit-learn!=0.22.0 in c:\\users\\leonid\\anaconda3\\envs\\py39\\lib\\site-packages (from lightgbm) (1.3.0)\n",
      "Requirement already satisfied: joblib>=1.1.1 in c:\\users\\leonid\\anaconda3\\envs\\py39\\lib\\site-packages (from scikit-learn!=0.22.0->lightgbm) (1.3.0)\n",
      "Requirement already satisfied: threadpoolctl>=2.0.0 in c:\\users\\leonid\\anaconda3\\envs\\py39\\lib\\site-packages (from scikit-learn!=0.22.0->lightgbm) (3.1.0)\n",
      "Requirement already satisfied: catboost in c:\\users\\leonid\\anaconda3\\envs\\py39\\lib\\site-packages (1.2.2)\n",
      "Requirement already satisfied: graphviz in c:\\users\\leonid\\anaconda3\\envs\\py39\\lib\\site-packages (from catboost) (0.20.1)\n",
      "Requirement already satisfied: matplotlib in c:\\users\\leonid\\anaconda3\\envs\\py39\\lib\\site-packages (from catboost) (3.7.2)\n",
      "Requirement already satisfied: numpy>=1.16.0 in c:\\users\\leonid\\anaconda3\\envs\\py39\\lib\\site-packages (from catboost) (1.24.4)\n",
      "Requirement already satisfied: pandas>=0.24 in c:\\users\\leonid\\anaconda3\\envs\\py39\\lib\\site-packages (from catboost) (2.0.3)\n",
      "Requirement already satisfied: scipy in c:\\users\\leonid\\anaconda3\\envs\\py39\\lib\\site-packages (from catboost) (1.11.1)\n",
      "Requirement already satisfied: plotly in c:\\users\\leonid\\anaconda3\\envs\\py39\\lib\\site-packages (from catboost) (5.15.0)\n",
      "Requirement already satisfied: six in c:\\users\\leonid\\anaconda3\\envs\\py39\\lib\\site-packages (from catboost) (1.16.0)\n",
      "Requirement already satisfied: python-dateutil>=2.8.2 in c:\\users\\leonid\\anaconda3\\envs\\py39\\lib\\site-packages (from pandas>=0.24->catboost) (2.8.2)\n",
      "Requirement already satisfied: pytz>=2020.1 in c:\\users\\leonid\\anaconda3\\envs\\py39\\lib\\site-packages (from pandas>=0.24->catboost) (2023.3)\n",
      "Requirement already satisfied: tzdata>=2022.1 in c:\\users\\leonid\\anaconda3\\envs\\py39\\lib\\site-packages (from pandas>=0.24->catboost) (2023.3)\n",
      "Requirement already satisfied: contourpy>=1.0.1 in c:\\users\\leonid\\anaconda3\\envs\\py39\\lib\\site-packages (from matplotlib->catboost) (1.1.0)\n",
      "Requirement already satisfied: cycler>=0.10 in c:\\users\\leonid\\anaconda3\\envs\\py39\\lib\\site-packages (from matplotlib->catboost) (0.11.0)\n",
      "Requirement already satisfied: fonttools>=4.22.0 in c:\\users\\leonid\\anaconda3\\envs\\py39\\lib\\site-packages (from matplotlib->catboost) (4.40.0)\n",
      "Requirement already satisfied: kiwisolver>=1.0.1 in c:\\users\\leonid\\anaconda3\\envs\\py39\\lib\\site-packages (from matplotlib->catboost) (1.4.4)\n",
      "Requirement already satisfied: packaging>=20.0 in c:\\users\\leonid\\anaconda3\\envs\\py39\\lib\\site-packages (from matplotlib->catboost) (23.1)\n",
      "Requirement already satisfied: pillow>=6.2.0 in c:\\users\\leonid\\anaconda3\\envs\\py39\\lib\\site-packages (from matplotlib->catboost) (10.0.0)\n",
      "Requirement already satisfied: pyparsing<3.1,>=2.3.1 in c:\\users\\leonid\\anaconda3\\envs\\py39\\lib\\site-packages (from matplotlib->catboost) (3.0.9)\n",
      "Requirement already satisfied: importlib-resources>=3.2.0 in c:\\users\\leonid\\anaconda3\\envs\\py39\\lib\\site-packages (from matplotlib->catboost) (6.0.0)\n",
      "Requirement already satisfied: tenacity>=6.2.0 in c:\\users\\leonid\\anaconda3\\envs\\py39\\lib\\site-packages (from plotly->catboost) (8.2.2)\n",
      "Requirement already satisfied: zipp>=3.1.0 in c:\\users\\leonid\\anaconda3\\envs\\py39\\lib\\site-packages (from importlib-resources>=3.2.0->matplotlib->catboost) (3.16.0)\n"
     ]
    }
   ],
   "source": [
    "!pip install lightgbm\n",
    "!pip install catboost"
   ]
  },
  {
   "cell_type": "code",
   "execution_count": 2,
   "metadata": {
    "scrolled": false
   },
   "outputs": [],
   "source": [
    "import numpy as np\n",
    "import pandas as pd\n",
    "import urllib.request\n",
    "import functools as fnc\n",
    "import operator as opr\n",
    "\n",
    "from sklearn.model_selection import train_test_split,TimeSeriesSplit,GridSearchCV\n",
    "from sklearn.ensemble import RandomForestRegressor\n",
    "from catboost import CatBoostRegressor\n",
    "from lightgbm import LGBMRegressor\n",
    "from sklearn.metrics import mean_squared_error,r2_score\n",
    "\n",
    "from statsmodels.tsa.seasonal import seasonal_decompose\n",
    "\n",
    "import matplotlib.pyplot as plt"
   ]
  },
  {
   "cell_type": "code",
   "execution_count": 3,
   "metadata": {},
   "outputs": [],
   "source": [
    "np.random.seed(499)\n",
    "get_yandex = lambda fn: urllib.request.urlretrieve(f\"https://code.s3.yandex.net/datasets/{fn}\", f\"datasets/{fn}\" )\n",
    "\n",
    "multiply = lambda array: fnc.reduce( opr.mul,array,1 )\n",
    "rmse = lambda y,pr: mean_squared_error(y,pr,squared=False) \n",
    "rmse.__name__='RMSE'\n",
    "def print_metrics( y,pr, metrics = [rmse,r2_score]):\n",
    "    scores = {}\n",
    "    outline = \"\"\n",
    "    for metric in metrics:\n",
    "        scores[metric.__name__]= metric(y,pr)\n",
    "        outline += f\"{metric.__name__}: {scores[metric.__name__]}\\t\" \n",
    "    print(outline)   "
   ]
  },
  {
   "cell_type": "markdown",
   "metadata": {},
   "source": [
    "## Подготовка"
   ]
  },
  {
   "cell_type": "code",
   "execution_count": null,
   "metadata": {},
   "outputs": [],
   "source": [
    "try:\n",
    "    get_yandex(\"taxi.csv\")\n",
    "    df = pd.read_csv('datasets/taxi.csv',parse_dates=[0],index_col=[0] )\n",
    "except Exception as e:\n",
    "    print(e)\n",
    "    exit(1)\n"
   ]
  },
  {
   "cell_type": "code",
   "execution_count": null,
   "metadata": {},
   "outputs": [],
   "source": [
    "df.sort_index(inplace=True)"
   ]
  },
  {
   "cell_type": "markdown",
   "metadata": {},
   "source": [
    "_Загрузить данные и выполнить их ресемплирование по одному часу._"
   ]
  },
  {
   "cell_type": "code",
   "execution_count": null,
   "metadata": {},
   "outputs": [],
   "source": [
    "df = df.resample('1H').sum()"
   ]
  },
  {
   "cell_type": "code",
   "execution_count": null,
   "metadata": {},
   "outputs": [],
   "source": [
    "df.info()\n",
    "df.head(),df.tail()"
   ]
  },
  {
   "cell_type": "markdown",
   "metadata": {},
   "source": [
    "## Анализ"
   ]
  },
  {
   "cell_type": "markdown",
   "metadata": {},
   "source": [
    "#### Общий анализ "
   ]
  },
  {
   "cell_type": "code",
   "execution_count": null,
   "metadata": {
    "scrolled": false
   },
   "outputs": [],
   "source": [
    "dw = df.resample('1W').sum()\n",
    "dw.index = dw.index.strftime('%d.%m')\n",
    "dw.plot.bar(figsize=(20,8),title='Количество заказов по неделям');"
   ]
  },
  {
   "cell_type": "markdown",
   "metadata": {},
   "source": [
    "Слабо повышающийся тренд с ускорением в конце срока"
   ]
  },
  {
   "cell_type": "code",
   "execution_count": null,
   "metadata": {},
   "outputs": [],
   "source": [
    "dd = df.resample('1D').sum()\n",
    "dd.plot(figsize=(20,8),title =\"Количество заказов по дням\",xlabel='Дата');"
   ]
  },
  {
   "cell_type": "markdown",
   "metadata": {},
   "source": [
    "Видны  серьезные колебания со дня на день"
   ]
  },
  {
   "cell_type": "code",
   "execution_count": null,
   "metadata": {
    "scrolled": true
   },
   "outputs": [],
   "source": [
    "ddc = seasonal_decompose(dd)\n",
    "ddc.trend.plot(figsize=(20,8),title='Тренд  по дням  ');"
   ]
  },
  {
   "cell_type": "markdown",
   "metadata": {},
   "source": [
    "Тренд колчества заказов по дням  примерно соответствует недельному графику, видны слабые нерегулярные провалы . "
   ]
  },
  {
   "cell_type": "code",
   "execution_count": null,
   "metadata": {
    "scrolled": true
   },
   "outputs": [],
   "source": [
    "ddc.seasonal.plot(figsize=(20,8),lw=2);\n",
    "ddc.resid.plot(figsize=(20,8),ls=':',title='Сезонная компонента и остаток за март- август ');\n",
    "plt.legend();"
   ]
  },
  {
   "cell_type": "markdown",
   "metadata": {},
   "source": [
    "Декомпозиция показывает по 2 пика в неделю со значительными колебаниями остатка, который может превышать ритмичные колебания."
   ]
  },
  {
   "cell_type": "markdown",
   "metadata": {},
   "source": [
    "####  Месячный анализ по дням"
   ]
  },
  {
   "cell_type": "markdown",
   "metadata": {},
   "source": [
    "Более подробно посмотрим июль - предпоследний месяц,   \n",
    "также это последний месяц, которй будет использован в пресказаниях и последний перед ускорением роста"
   ]
  },
  {
   "cell_type": "code",
   "execution_count": null,
   "metadata": {},
   "outputs": [],
   "source": [
    "dm = seasonal_decompose( df['2018-07-02':'2018-07-30'].resample('1D').sum() )\n",
    "dm_sr= pd.DataFrame( dm.seasonal).join( dm.resid )\n",
    "dm_sr.index = dm_sr.index.strftime('%d %a')\n",
    "dm_sr.seasonal.plot.bar(figsize=(20,8),title='Сезонная компонета  по дням за июль ');"
   ]
  },
  {
   "cell_type": "markdown",
   "metadata": {},
   "source": [
    "В сезонной компоненте выделяются пики в пятницу и меньшие - в понедельник (какие-то \"вахтовые\" поездки? ) а также провалы в воскресенье и вторник"
   ]
  },
  {
   "cell_type": "code",
   "execution_count": null,
   "metadata": {},
   "outputs": [],
   "source": [
    "dm_sr.plot.bar(color=['m','y'],figsize=(20,8),title='Сезонная компонета и остатки по дням за июль ');\n"
   ]
  },
  {
   "cell_type": "markdown",
   "metadata": {},
   "source": [
    "Остаток с сильными колебаниями, в частности можно отметить разнонаправленные колебания по вторникам и четвергам"
   ]
  },
  {
   "cell_type": "code",
   "execution_count": null,
   "metadata": {},
   "outputs": [],
   "source": [
    "dm.trend.plot(figsize=(20,8),title='Тренд  по дням за июль ');"
   ]
  },
  {
   "cell_type": "markdown",
   "metadata": {},
   "source": [
    "Тренд показывает мнотонный рост , примерно на 20% за месяц"
   ]
  },
  {
   "cell_type": "markdown",
   "metadata": {},
   "source": [
    "#### Месячный анализ по дням за август"
   ]
  },
  {
   "cell_type": "markdown",
   "metadata": {},
   "source": [
    "Изменилось ли что-то в данных за вагуст, которые надо предсказывать ?"
   ]
  },
  {
   "cell_type": "code",
   "execution_count": null,
   "metadata": {},
   "outputs": [],
   "source": [
    "dm_a = seasonal_decompose( df['2018-07-30':'2018-08-26'].resample('1D').sum() )\n",
    "dm_sr_a= pd.DataFrame( dm_a.seasonal).join( dm_a.resid )\n",
    "dm_sr_a.index = dm_sr_a.index.strftime('%d %a')\n",
    "dm_sr_a.seasonal.plot.bar(figsize=(20,8),title='Сезонная компонета  по дням за июль ');"
   ]
  },
  {
   "cell_type": "markdown",
   "metadata": {},
   "source": [
    "Seasonal внешне изменился мало, но трафик по понедельникам вырос - и теперь он больше чем в пятницу.  \n",
    "По другим дням отклонение от среднего  уровня не исзменилось, так что это именно увеличение числа заказов в понедельник. "
   ]
  },
  {
   "cell_type": "code",
   "execution_count": null,
   "metadata": {},
   "outputs": [],
   "source": [
    "dm_sr_a.plot.bar(color=['m','y'],figsize=(20,8),title='Сезонная компонета и остатки по дням за август ');"
   ]
  },
  {
   "cell_type": "markdown",
   "metadata": {},
   "source": [
    "Остатки меньше, чем в июле, график более стационарный"
   ]
  },
  {
   "cell_type": "code",
   "execution_count": null,
   "metadata": {},
   "outputs": [],
   "source": [
    "dm_a.trend.plot(figsize=(20,8),title='Тренд  по дням за август ');"
   ]
  },
  {
   "cell_type": "markdown",
   "metadata": {},
   "source": [
    "Основное изменение в августовском трафике - появление нового источника заказов по понедельникам "
   ]
  },
  {
   "cell_type": "markdown",
   "metadata": {},
   "source": [
    "#### Недельный анализ по часам"
   ]
  },
  {
   "cell_type": "code",
   "execution_count": null,
   "metadata": {},
   "outputs": [],
   "source": [
    "dh = seasonal_decompose(df['2018-07-02':'2018-07-08'])\n",
    "\n",
    "dh.seasonal.plot(figsize=(20,8),lw=2,title='Сезонная составляющая и остаток за первую неделю июля' );\n",
    "dh.resid.plot(figsize=(20,8),ls='--');\n",
    "plt.legend();"
   ]
  },
  {
   "cell_type": "markdown",
   "metadata": {},
   "source": [
    "По часам также есть сильные колебания, нельза выделить какой-ту особенную часть суток, количество заказов сильно меняются от часа к часу, со значительными нерегулярными остатками.  \n",
    "Пики заказов на часы пик и полночь, минимумы - ночью"
   ]
  },
  {
   "cell_type": "code",
   "execution_count": null,
   "metadata": {},
   "outputs": [],
   "source": [
    "dh_a = seasonal_decompose(df['2018-07-30':'2018-08-06'])\n",
    "dh_a.seasonal.plot(figsize=(20,8),lw=2,title='Сезонная составляющая и остаток за первую неделю августа ');\n",
    "dh_a.resid.plot(figsize=(20,8),ls='--');\n",
    "plt.legend();"
   ]
  },
  {
   "cell_type": "markdown",
   "metadata": {},
   "source": [
    "По сравнению с июльским графиком есть небольшие  изменения -более плоский спад после получночи и плоский максимум в часы пик .   \n",
    "Но понять , в какое время суток идёт увеличение заказов в понедльники, мне не удалось "
   ]
  },
  {
   "cell_type": "markdown",
   "metadata": {},
   "source": [
    "#### Разностный анализ"
   ]
  },
  {
   "cell_type": "code",
   "execution_count": null,
   "metadata": {},
   "outputs": [],
   "source": [
    "def plot_diff(dx,sf,title):\n",
    "    dxc = seasonal_decompose( (dx-dx.shift(sf)).dropna() )\n",
    "    dxc.seasonal.plot(figsize=(20,8),lw=2,title=title);\n",
    "    dxc.resid.plot(figsize=(20,8),ls='--');\n",
    "plot_diff(df['2018-07-02':'2018-07-16'],1, title='Почасовая разница в заказых за 2-15 июля ')                  "
   ]
  },
  {
   "cell_type": "markdown",
   "metadata": {},
   "source": [
    "Почесовые разницы так же нестабильны, как и число заказов"
   ]
  },
  {
   "cell_type": "code",
   "execution_count": null,
   "metadata": {
    "scrolled": true
   },
   "outputs": [],
   "source": [
    "plot_diff(df['2018-07-02':'2018-07-16'],24, title='Поcуточная  разница в количестве заказов за час за 2-15 июля ')"
   ]
  },
  {
   "cell_type": "markdown",
   "metadata": {},
   "source": [
    "Суточные разности выглядят намного более  стационарным процессом, чем исходное количество заказов "
   ]
  },
  {
   "cell_type": "code",
   "execution_count": null,
   "metadata": {},
   "outputs": [],
   "source": [
    "plot_diff(df['2018-07-02':'2018-07-30'],24*7, title='Понедельная  разница в количестве заказов за час за 2-30 июля ')"
   ]
  },
  {
   "cell_type": "markdown",
   "metadata": {},
   "source": [
    "Также как и недельные разницы.   \n",
    "**Основной вывод по резултатам анализа -  \n",
    " существование суточных  и недельных циклов количества заказов**"
   ]
  },
  {
   "cell_type": "markdown",
   "metadata": {},
   "source": [
    "## Обучение"
   ]
  },
  {
   "cell_type": "markdown",
   "metadata": {},
   "source": [
    "Так как есть выраженные периодические  колебания по дням недели и в течение суток, я ожидаю, что будет достаточно двуз признаков - час и день недели (категориальные) , а также для учета тренда - количество дней с начала года (числовой признак).\n",
    "Но на всякий случай я добавлю сдвиги на дни и часы а также учет среднего за две недели.\n",
    "В тестировании будут проверены оба варианта- с дополнительными признаками и без"
   ]
  },
  {
   "cell_type": "markdown",
   "metadata": {},
   "source": [
    "#### Подготовка признаков"
   ]
  },
  {
   "cell_type": "code",
   "execution_count": null,
   "metadata": {},
   "outputs": [],
   "source": [
    "def split_date(d ):                    \n",
    "    return d,d.dayofyear,d.day_name(),d.hour \n",
    "\n",
    "df = df.join( df.index.map(split_date).to_frame(name=['datetime','doy','day','hour']).set_index('datetime') )\n"
   ]
  },
  {
   "cell_type": "code",
   "execution_count": null,
   "metadata": {},
   "outputs": [],
   "source": [
    "for i in range(1,4):\n",
    "    df[\"shift_\"+str(i)] = df.num_orders.shift(i)\n",
    "for i in [1,2,7]:\n",
    "    df[\"shift_\"+str(i*24)] = df.num_orders.shift(i*24)    \n",
    "for i in [15]:     \n",
    "    df['avg'+str(i)] = df.num_orders.shift().rolling(i).mean() \n",
    "df = df.dropna()    \n",
    "df.info()\n",
    "df.head()    "
   ]
  },
  {
   "cell_type": "code",
   "execution_count": null,
   "metadata": {},
   "outputs": [],
   "source": [
    "df[['num_orders']].join( df.num_orders.shift().rolling(15).agg(['mean']) ).dropna().head(10)"
   ]
  },
  {
   "cell_type": "code",
   "execution_count": null,
   "metadata": {},
   "outputs": [],
   "source": [
    "cat_cols = ['day','hour']\n",
    "df[cat_cols]= df[cat_cols].astype('category')\n",
    "# num_cols0 = ['doy']\n",
    "num_cols = [ c for c in df.columns if df.dtypes[c] in ['int64','float64'] ]\n",
    "print( cat_cols,num_cols)\n"
   ]
  },
  {
   "cell_type": "markdown",
   "metadata": {},
   "source": [
    "#### Разбиение на тестовый и тренировочный набор "
   ]
  },
  {
   "cell_type": "markdown",
   "metadata": {},
   "source": [
    "При этом поддерживаются наборы Xs c сокращенным количеством признаков (без сконструированных со сдвигом и средним) "
   ]
  },
  {
   "cell_type": "code",
   "execution_count": null,
   "metadata": {},
   "outputs": [],
   "source": [
    "y = 'num_orders'\n",
    "X = [ c for c in num_cols + cat_cols if c != y ] \n",
    "Xs =  cat_cols +[ 'doy' ]\n",
    "\n",
    "\n",
    "X_tr,X_te,y_tr,y_te= train_test_split(df[X],df[y], test_size=.1,shuffle= False)\n",
    "Xs_tr = X_tr[Xs]\n",
    "Xs_te = X_te[Xs]\n",
    "print(X_tr.index.max(),X_te.index.min())\n"
   ]
  },
  {
   "cell_type": "code",
   "execution_count": null,
   "metadata": {},
   "outputs": [],
   "source": [
    "X_tr.head()"
   ]
  },
  {
   "cell_type": "markdown",
   "metadata": {},
   "source": [
    "## Тестирование"
   ]
  },
  {
   "cell_type": "markdown",
   "metadata": {},
   "source": [
    "Я использовал библиотеку классов из прошлых заданий с небольшими доработками. \n",
    "Она включает класс для разбора результата кроссвалидации, два класса рисования графиков и класс для интеграции теста  \n",
    "ДЛя поиска оптимальных параметров на тренировочном наборе используется кроссвалидатор с разбиением временных рядов TimeTestSplit"
   ]
  },
  {
   "cell_type": "markdown",
   "metadata": {},
   "source": [
    "####  ParsedResult"
   ]
  },
  {
   "cell_type": "markdown",
   "metadata": {},
   "source": [
    "Класс разбора результата кроссвалидации, формирует "
   ]
  },
  {
   "cell_type": "code",
   "execution_count": null,
   "metadata": {},
   "outputs": [],
   "source": [
    "class ParsedResult:\n",
    "    def __init__(self,result,metric_name='score',sample_name='mean'):\n",
    "        self.df = pd.DataFrame.from_dict( \n",
    "            { k:v for k,v in result.items() if k not in ['params']}\n",
    "        )\n",
    "# drop param_ prefix from column names for tidy display         \n",
    "        self.primary_score=f\"{sample_name}_test_{metric_name}\"\n",
    "        param_names = [ c for c in self.df.columns if c[:6]=='param_' ]        \n",
    "        self.param_cols = [ c[6:] for c in param_names ]              \n",
    "        self.df = self.df.rename( columns={ p:c for p,c in zip(param_names,self.param_cols) } )\n",
    "# also drop model_ prefix which we use for model grid in pipeline   \n",
    "        model_names = [ c for c in self.df.columns if c[:7]=='model__' ]\n",
    "        self.param_cols = [c[7:]  if c[:7]=='model__' else c for c in self.param_cols ]\n",
    "        self.model_cols = [ c[7:] for c in model_names ]   \n",
    "        self.df = self.df.rename( columns={ p:c for p,c in zip(model_names,self.model_cols) } )\n",
    "# select parameters, for which tested several values and arrange them descending (by number of differnt values)\n",
    "        values_per_cols = list(zip( self.param_cols,[ len( np.unique( self.df[c].values ) ) for c in self.param_cols]))\n",
    "        self.multi_value_cols =[it[0] for it in sorted(values_per_cols, key=lambda pair:pair[1],reverse=True) if it[1]>1 ]\n",
    "# some object columns may be not string (f.e. lists)\n",
    "        for i in range(len(self.df.columns)):\n",
    "            if self.df.dtypes[i]=='object':\n",
    "                self.df[self.df.columns[i]] = self.df[self.df.columns[i]].astype(str)\n",
    "        \n",
    "            \n",
    "    def select(self, index,values=[],filters={},agg=[] ):\n",
    "        values = [ [self.primary_score] ,values][bool(values)]\n",
    "        if len(filters)>0 :\n",
    "            condition = 'and'.join([ f\" {k}=={v} \" for k,v in filters.items() ]) \n",
    "            filtered = self.df.query(condition)    \n",
    "        else:\n",
    "            filtered = self.df\n",
    "        cols = [ c for c in self.multi_value_cols if c not in list(filters.keys())+[index]+values ]      \n",
    "        return(self.df.pivot_table(index=index,values=values,columns=cols)  )\n",
    "     "
   ]
  },
  {
   "cell_type": "markdown",
   "metadata": {},
   "source": [
    "#### ResultPlotter"
   ]
  },
  {
   "cell_type": "markdown",
   "metadata": {},
   "source": [
    "Два класса для однородной отрисовки графиков :\n",
    "Вспомогательный класс формирования аттрибутов линий для графиков, создаваемых в основном плоттере\n"
   ]
  },
  {
   "cell_type": "code",
   "execution_count": null,
   "metadata": {},
   "outputs": [],
   "source": [
    "class Styler:\n",
    "    base_array=[]\n",
    "    def __init__(self,param_array=[]):\n",
    "        self.params = [ self.base_array,param_array][bool(param_array)]\n",
    "    \n",
    "    def key(self):\n",
    "        pass\n",
    "    \n",
    "    def put(self,dct,index):\n",
    "        dct[self.key()] = self.params[index]\n",
    "        \n",
    "class ColorStyler(Styler):\n",
    "    base_array=[*'rgbykm']\n",
    "    def key(self):\n",
    "        return('color')\n",
    "\n",
    "class DashStyler(Styler):\n",
    "    base_array=['--',':','-.','-']\n",
    "    def key(self):\n",
    "        return('ls')\n",
    "    \n",
    "class WidthStyler(Styler):\n",
    "    base_array=[ 2,4,7]\n",
    "    def key(self):\n",
    "        return('lw')\n",
    "\n",
    "class AlphasStyler(Styler):\n",
    "    base_array=[ .3,.9]\n",
    "    def key(self):\n",
    "        return('alpha')\n",
    "    "
   ]
  },
  {
   "cell_type": "markdown",
   "metadata": {},
   "source": [
    "И собственно плоттер, рисующий каждый столбец мультиколонки в своем стиле.   \n",
    "Отельные непересекающиеся аттрибуты создаются для каждого уровня мультиколонки,   \n",
    "в результате каждая элементарная подколонка получает уникальный стиль   "
   ]
  },
  {
   "cell_type": "code",
   "execution_count": null,
   "metadata": {},
   "outputs": [],
   "source": [
    "class ResultPlotter:\n",
    "    base_params = {\n",
    "        'colors':[*'rgbykm'],\n",
    "        'styles':['--',':','-.','-',(0, (1, 10)),(0, (5, 10))],\n",
    "        'widths':[ 2,4,7],\n",
    "        'alphas':[.3,.8],\n",
    "        'figsize': (20,8),\n",
    "        'logscale':\"\"\n",
    "    }\n",
    "    \n",
    "    def __init__(self, test, params = {} ):\n",
    "        self.model = test.model\n",
    "        self.df= test.sel\n",
    "        self.params=self.base_params | params\n",
    "        self.stylers = [ColorStyler(self.params['colors']),DashStyler(self.params['styles']),\n",
    "                        WidthStyler(self.params['widths']),AlphasStyler(self.params['alphas'])]\n",
    "        self.mcols = self.df.columns      \n",
    "        self.lev_names = list(self.mcols.names)\n",
    "        self.num_levels= len(self.lev_names)\n",
    "        self.level_sizes=[ len(set(self.mcols.get_level_values(x))) for x in self.lev_names]\n",
    "        \n",
    "        # if level 0(\"values of pivot\") is one-valued, then start apply styles from columns 1  \n",
    "        self.start_level = int(  self.level_sizes[0] == 1   )\n",
    "# TODO: refactoring needed here, one or two new functions to encapsulate this feature\n",
    "#       also to print short description for \" result thread\" \n",
    "\n",
    "        \n",
    "\n",
    "# auxliary func to forms sequence of indexes for levels\n",
    "# result is need index on the level  which may be one of color|dashstyle|linewidth\n",
    "    def idx_on_level(self,idx, lev_num):\n",
    "        items_on_hyperplane = multiply(self.level_sizes[(lev_num+1):]) \n",
    "        return idx//items_on_hyperplane% self.level_sizes[lev_num]\n",
    "    \n",
    "    def plot(self):\n",
    "        fig,ax = plt.subplots(figsize=(20,6))\n",
    "        if 'x' in self.params['logscale'].lower():\n",
    "            ax.set_xscale('log')\n",
    "        if not self.lev_names[0]:\n",
    "            self.lev_names[0]='res.thread'\n",
    "            \n",
    "        for i_mcol in range(len( self.mcols)):\n",
    "            graph_params = {}\n",
    "            for i_level in range(self.start_level,self.num_levels):\n",
    "                self.stylers[i_level-self.start_level].put( graph_params, self.idx_on_level(i_mcol,i_level) ) \n",
    "            idx=self.mcols[i_mcol]\n",
    "            \n",
    "            levels_for_label=[ f\"{n}:{j} \" for n,j in zip(self.lev_names[self.start_level:],idx[self.start_level:]) ] \n",
    "            graph_params['label'] = ','.join( levels_for_label )\n",
    "            ax.plot(self.df[idx] ,**graph_params)\n",
    "            ax.set_title(f\"Тест {self.params['title']}\")\n",
    "            ax.set_xlabel('learning rate')\n",
    "            ax.set_ylabel(f\"{self.params['metric']}\")\n",
    "            ax.legend()"
   ]
  },
  {
   "cell_type": "markdown",
   "metadata": {},
   "source": [
    "#### Класс для универсального теста на модели\n",
    "\n",
    "Содержит программу стандартного теста"
   ]
  },
  {
   "cell_type": "code",
   "execution_count": null,
   "metadata": {},
   "outputs": [],
   "source": [
    "class TestModel:\n",
    "    base_params = {\n",
    "        'cv':4 ,\n",
    "        'scoring' : ['neg_root_mean_squared_error','r2']\n",
    "    }\n",
    "    def __init__(self, model, params = {} ):\n",
    "        self.model = model\n",
    "        self.params = self.base_params | {'title':type(self.model).__name__} | params \n",
    "        \n",
    "    def  __getattr__(self, k):\n",
    "        if k in self.params:\n",
    "            return ( self.params[k] )  \n",
    "        \n",
    "    def cross_validate(self,param_grid,X_tr,y_tr,refit=None):\n",
    "        self.refit = [self.scoring[0],refit ][bool(refit)]\n",
    "        self.gcv = GridSearchCV(self.model, param_grid,cv= self.cv, scoring=self.scoring,refit=self.refit) \n",
    "        self.gcv.fit(X_tr,y_tr)\n",
    "        self.best = self.gcv.best_params_\n",
    "        return self.best\n",
    "    \n",
    "    def check_best(self,X_tr,y_tr,X_te,y_te,metrics=[rmse,r2_score]):\n",
    "        model = self.model.set_params(**self.best)\n",
    "        model.fit(X_tr,y_tr)\n",
    "        pr = model.predict(X_te)\n",
    "        for metric in metrics:\n",
    "            print(f\"{metric.__name__}: {metric(y_te,pr)} \\t\")\n",
    "\n",
    "    \n",
    "    def parse_result(self,index_column='learning_rate',values=[]):\n",
    "        self.res = ParsedResult(self.gcv.cv_results_,metric_name=self.refit)\n",
    "        self.sel = self.res.select(index_column,values=values)\n",
    "        return self.sel\n",
    "        \n",
    "    def plot(self):\n",
    "        self.rp = ResultPlotter(self,{'logscale':'x','title':self.title,'metric':self.refit})\n",
    "        self.rp.plot()"
   ]
  },
  {
   "cell_type": "code",
   "execution_count": null,
   "metadata": {},
   "outputs": [],
   "source": [
    "%%time\n",
    "tscv = TimeSeriesSplit(10)\n",
    "#tscv5 = TimeSeriesSplit(10,max_train_size =5)\n",
    "                \n",
    "debug_grid = {\n",
    "    'iterations': [64,128],\n",
    "    'learning_rate': [.1,.03,.01,.003]\n",
    "}\n",
    "\n",
    "test_grid = {\n",
    "    'iterations': [64,128,256,512,1024],\n",
    "    'learning_rate': [.6,.3,.1,.06,.03,.02,.01,.003]\n",
    "}\n",
    "param_grid = test_grid"
   ]
  },
  {
   "cell_type": "markdown",
   "metadata": {},
   "source": [
    "#### Тест Catboost на полном наборе признаков  "
   ]
  },
  {
   "cell_type": "code",
   "execution_count": null,
   "metadata": {
    "scrolled": true
   },
   "outputs": [],
   "source": [
    "%%time\n",
    "cbst = TestModel(CatBoostRegressor(logging_level='Silent',cat_features=cat_cols),\n",
    "              params=   {'cv': tscv,'title':'CatBoost full features set'} )\n",
    "cbst.cross_validate(param_grid,X_tr,y_tr)"
   ]
  },
  {
   "cell_type": "markdown",
   "metadata": {},
   "source": [
    "Этот метод проверяет лучший результат на тестовом наборе "
   ]
  },
  {
   "cell_type": "code",
   "execution_count": null,
   "metadata": {},
   "outputs": [],
   "source": [
    "cbst.check_best(X_tr,y_tr,X_te,y_te)"
   ]
  },
  {
   "cell_type": "markdown",
   "metadata": {},
   "source": [
    " на тестовом наборе достигнута <b> метрика RMSE 38.7  </b>"
   ]
  },
  {
   "cell_type": "markdown",
   "metadata": {},
   "source": [
    " В принципе, этого  достаточно, так как требуется 48   \n",
    " Посмотрим что получается при различных вариантов гиперпараметров"
   ]
  },
  {
   "cell_type": "code",
   "execution_count": null,
   "metadata": {},
   "outputs": [],
   "source": [
    "cbst.parse_result()"
   ]
  },
  {
   "cell_type": "code",
   "execution_count": null,
   "metadata": {},
   "outputs": [],
   "source": [
    "cbst.sel.columns"
   ]
  },
  {
   "cell_type": "code",
   "execution_count": null,
   "metadata": {},
   "outputs": [],
   "source": [
    "cbst.plot()"
   ]
  },
  {
   "cell_type": "markdown",
   "metadata": {},
   "source": [
    "Максимумы достигаются при скорости 0.02-.01 в зависимости от числа оценщиков   \n",
    "Результаты вглядят стабильно без резких колебаний  а приизменение и скоростей в ту или другую сторону начинается пере- или недо- обучение  \n",
    "Однако заметно серьезное отличие средней  метрики тестов(mean_test_score) от  результата финального теста    "
   ]
  },
  {
   "cell_type": "markdown",
   "metadata": {},
   "source": [
    "Поэтому отдельно выберем результаты последних серий и посмотрим метрику для них"
   ]
  },
  {
   "cell_type": "code",
   "execution_count": null,
   "metadata": {},
   "outputs": [],
   "source": [
    "cbst.parse_result(values=['mean_test_neg_root_mean_squared_error',\n",
    "                          'split6_test_neg_root_mean_squared_error',\n",
    "                          'split8_test_neg_root_mean_squared_error',\n",
    "                          'split9_test_neg_root_mean_squared_error'])"
   ]
  },
  {
   "cell_type": "code",
   "execution_count": null,
   "metadata": {},
   "outputs": [],
   "source": [
    "cbst.plot()"
   ]
  },
  {
   "cell_type": "markdown",
   "metadata": {},
   "source": [
    "К сожалению, финальные серии предсказывающие крайние результаты (желтые , split_9) дают гораздо худший результат , чем ранние (split_6). Я это связываю с тем, что характер предсказываемой кривой в августе несколько изменился.\n",
    "\n",
    "Характер кривых скоринга  все же не меняется и максимумы так же на .03-.1  с максимальным числом оценщиков,\n",
    " так что выбор лучшей модели не меняется .\n",
    " \n",
    "Возникает вопрос -  как лучше отбирать тренировочную выборку для подбора гиперпараметров ? \n",
    "Возможно нужно \"расширять\" тренировочное окно назад и сравнивать результаты, но простого сопсоба сделать это я не нашел. "
   ]
  },
  {
   "cell_type": "markdown",
   "metadata": {},
   "source": [
    "#### Тест на сокращенном наборе признаков "
   ]
  },
  {
   "cell_type": "code",
   "execution_count": null,
   "metadata": {
    "scrolled": true
   },
   "outputs": [],
   "source": [
    "%%time\n",
    "cbsts = TestModel(CatBoostRegressor(logging_level='Silent',cat_features=cat_cols),\n",
    "                  params=   {'cv': tscv,'title':'CatBoost short features set'} )\n",
    "cbsts.cross_validate(param_grid,Xs_tr,y_tr)"
   ]
  },
  {
   "cell_type": "code",
   "execution_count": null,
   "metadata": {},
   "outputs": [],
   "source": [
    "cbsts.check_best(Xs_tr,y_tr,Xs_te,y_te)"
   ]
  },
  {
   "cell_type": "code",
   "execution_count": null,
   "metadata": {},
   "outputs": [],
   "source": [
    "cbsts.parse_result()"
   ]
  },
  {
   "cell_type": "code",
   "execution_count": null,
   "metadata": {
    "scrolled": true
   },
   "outputs": [],
   "source": [
    "cbsts.plot()"
   ]
  },
  {
   "cell_type": "markdown",
   "metadata": {},
   "source": [
    "Выбор оптимальной модели тот же, но результаты несколько хуже.  \n",
    "Так что дополнительные признаки все же полезны"
   ]
  },
  {
   "cell_type": "markdown",
   "metadata": {},
   "source": [
    "#### LGBM Test"
   ]
  },
  {
   "cell_type": "code",
   "execution_count": null,
   "metadata": {},
   "outputs": [],
   "source": [
    "debug_grid = {\n",
    "    'iterations': [64,128],\n",
    "    'learning_rate': [.1,.03,.01,.003]\n",
    "}\n",
    "\n",
    "test_grid = {\n",
    "    'boosting': ['gbdt','dart','goss'],\n",
    "    'iterations': [64],\n",
    "    'learning_rate': [.6,.3,.1,.03,.01,.003]\n",
    "}\n",
    "param_grid = test_grid"
   ]
  },
  {
   "cell_type": "code",
   "execution_count": null,
   "metadata": {},
   "outputs": [],
   "source": [
    "%%time\n",
    "lgbm = TestModel(LGBMRegressor(verbose=-1),\n",
    "                  params=   {'cv': tscv,'title':'LGBM'} )\n",
    "lgbm.cross_validate(param_grid,X_tr,y_tr)"
   ]
  },
  {
   "cell_type": "code",
   "execution_count": null,
   "metadata": {},
   "outputs": [],
   "source": [
    "lgbm.check_best(X_tr,y_tr,X_te,y_te)"
   ]
  },
  {
   "cell_type": "code",
   "execution_count": null,
   "metadata": {},
   "outputs": [],
   "source": [
    "lgbm.parse_result()"
   ]
  },
  {
   "cell_type": "code",
   "execution_count": null,
   "metadata": {},
   "outputs": [],
   "source": [
    "lgbm.plot()"
   ]
  },
  {
   "cell_type": "markdown",
   "metadata": {},
   "source": [
    "Модель LGBM показала несколько худший результат , чем CatBoost.  \n",
    "Оптимальные скорости обучения так же около .03-.1, хотя на неоптимальных падение качества обучения идет быстрее , чем у CatBoost  \n",
    "В качестве оптимальной модели выбрана лучшая модель Catboost"
   ]
  },
  {
   "cell_type": "markdown",
   "metadata": {},
   "source": [
    "### ВЫВОДЫ\n",
    "\n",
    "* Количество заказов монотонно растет по неделям , общий рост за полгода - примерно 20% \n",
    "* В количестве заказов наблюдаются недельные и суточные колебания\n",
    "* Максимальное количество заказов в понедельник и пятницу , минимальное - во вторник и воскресенье\n",
    "* В течение суток максимумы заказов в полночь и в часы пик , минимумы - под утро\n",
    "* Моделирование позволят предсказывать количество закзов в час со среднеквадратичным отклонением 40\n",
    "* Лучшая предказывающая модель - Catboost, при  предсказании нужно учитывать час и день недели, важно также колчиество заказов неделю назад и среднее за две недели  "
   ]
  }
 ],
 "metadata": {
  "kernelspec": {
   "display_name": "Python 3 (ipykernel)",
   "language": "python",
   "name": "python3"
  },
  "language_info": {
   "codemirror_mode": {
    "name": "ipython",
    "version": 3
   },
   "file_extension": ".py",
   "mimetype": "text/x-python",
   "name": "python",
   "nbconvert_exporter": "python",
   "pygments_lexer": "ipython3",
   "version": "3.9.16"
  },
  "toc": {
   "base_numbering": 1,
   "nav_menu": {},
   "number_sections": true,
   "sideBar": true,
   "skip_h1_title": true,
   "title_cell": "Содержание",
   "title_sidebar": "Contents",
   "toc_cell": true,
   "toc_position": {},
   "toc_section_display": true,
   "toc_window_display": true
  }
 },
 "nbformat": 4,
 "nbformat_minor": 2
}
